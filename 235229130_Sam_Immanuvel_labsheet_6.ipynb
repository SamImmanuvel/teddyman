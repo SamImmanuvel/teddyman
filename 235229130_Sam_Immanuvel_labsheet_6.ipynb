{
 "cells": [
  {
   "cell_type": "code",
   "execution_count": 1,
   "id": "f892f766",
   "metadata": {},
   "outputs": [
    {
     "name": "stdout",
     "output_type": "stream",
     "text": [
      "Using map and sqrt functions: [1.0, 1.4142135623730951, 2.0, 2.449489742783178]\n",
      "Using custom mymap function: [1.0, 1.4142135623730951, 2.0, 2.449489742783178]\n"
     ]
    }
   ],
   "source": [
    "#Question1\n",
    "import math\n",
    "\n",
    "numbers = [1, 2, 4, 6]\n",
    "square_roots = list(map(math.sqrt, numbers))\n",
    "print(\"Using map and sqrt functions:\", square_roots)\n",
    "\n",
    "def mymap(func, iterable):\n",
    "    result = []\n",
    "    for item in iterable:\n",
    "        result.append(func(item))\n",
    "    return result\n",
    "\n",
    "square_roots_custom = mymap(math.sqrt, numbers)\n",
    "print(\"Using custom mymap function:\", square_roots_custom)\n"
   ]
  },
  {
   "cell_type": "code",
   "execution_count": 2,
   "id": "fcc64565",
   "metadata": {},
   "outputs": [
    {
     "name": "stdout",
     "output_type": "stream",
     "text": [
      "Using filter function: ['Y', 'Z']\n",
      "Using custom myfilter function: ['Y', 'Z']\n"
     ]
    }
   ],
   "source": [
    "#Question2\n",
    "characters = ['x', 'Y', '2', '3', 'Z', 'b']\n",
    "uppercase_letters = list(filter(str.isupper, characters))\n",
    "print(\"Using filter function:\", uppercase_letters)\n",
    "\n",
    "def myfilter(func, iterable):\n",
    "    result = []\n",
    "    for item in iterable:\n",
    "        if func(item):\n",
    "            result.append(item)\n",
    "    return result\n",
    "\n",
    "uppercase_letters_custom = myfilter(str.isupper, characters)\n",
    "print(\"Using custom myfilter function:\", uppercase_letters_custom)\n"
   ]
  },
  {
   "cell_type": "code",
   "execution_count": 4,
   "id": "adb53690",
   "metadata": {},
   "outputs": [
    {
     "name": "stdout",
     "output_type": "stream",
     "text": [
      "Using reduce function: xabcd\n"
     ]
    }
   ],
   "source": [
    "#Question3\n",
    "from functools import reduce\n",
    "concatenate = lambda x, y: x + y\n",
    "\n",
    "characters = ['a', 'b', 'c', 'd']\n",
    "\n",
    "result = reduce(concatenate, characters, 'x')\n",
    "print(\"Using reduce function:\", result)\n"
   ]
  },
  {
   "cell_type": "code",
   "execution_count": 5,
   "id": "eb067577",
   "metadata": {},
   "outputs": [
    {
     "name": "stdout",
     "output_type": "stream",
     "text": [
      "Processed data: [(34587, 163.8), (98762, 284.0), (77226, 88.85000000000001), (88112, 64.97)]\n"
     ]
    }
   ],
   "source": [
    "#Question4\n",
    "data = [\n",
    "    [34587, \"Learning Python, Mark Lutz\", 4, 40.95],\n",
    "    [98762, \"Programming Python, Mark Lutz\", 5, 56.80],\n",
    "    [77226, \"Head First Python, Paul Barry\", 3, 32.95],\n",
    "    [88112, \"Einführung in Python3, Bernd Klein\", 3, 24.99]\n",
    "]\n",
    "\n",
    "result = list(map(lambda x: (x[0], x[2] * x[3] if x[2] * x[3] >= 100 else x[2] * x[3] - 10), data))\n",
    "\n",
    "print(\"Processed data:\", result)\n"
   ]
  },
  {
   "cell_type": "code",
   "execution_count": 6,
   "id": "92e8fc4b",
   "metadata": {},
   "outputs": [
    {
     "name": "stdout",
     "output_type": "stream",
     "text": [
      "Account[123] - John, current account = 10.05\n",
      "Account[345] - John, savings account = 23.55\n",
      "Account[567] - Phoebe, investment account = 12.45\n",
      "balance: 21.17\n"
     ]
    }
   ],
   "source": [
    "#Question5\n",
    "class Account:\n",
    "    \"\"\"A class used to represent a type of account\"\"\"\n",
    "    \n",
    "    def __init__(self, account_number, account_holder, opening_balance, account_type):\n",
    "        self.account_number = account_number\n",
    "        self.account_holder = account_holder\n",
    "        self.balance = opening_balance\n",
    "        self.type = account_type\n",
    "    \n",
    "    def deposit(self, amount):\n",
    "        self.balance += amount\n",
    "    \n",
    "    def withdraw(self, amount):\n",
    "        self.balance -= amount\n",
    "    \n",
    "    def get_balance(self):\n",
    "        return self.balance\n",
    "    \n",
    "    def __str__(self):\n",
    "        return f'Account[{self.account_number}] - {self.account_holder}, {self.type} account = {self.balance}'\n",
    "\n",
    "# Create account instances\n",
    "acc1 = Account('123', 'John', 10.05, 'current')\n",
    "acc2 = Account('345', 'John', 23.55, 'savings')\n",
    "acc3 = Account('567', 'Phoebe', 12.45, 'investment')\n",
    "\n",
    "# Print account details\n",
    "print(acc1)\n",
    "print(acc2)\n",
    "print(acc3)\n",
    "\n",
    "# Perform operations and print balance\n",
    "acc1.deposit(23.45)\n",
    "acc1.withdraw(12.33)\n",
    "print('balance:', acc1.get_balance())\n"
   ]
  },
  {
   "cell_type": "code",
   "execution_count": null,
   "id": "93902264",
   "metadata": {},
   "outputs": [],
   "source": [
    "\n"
   ]
  }
 ],
 "metadata": {
  "kernelspec": {
   "display_name": "Python 3 (ipykernel)",
   "language": "python",
   "name": "python3"
  },
  "language_info": {
   "codemirror_mode": {
    "name": "ipython",
    "version": 3
   },
   "file_extension": ".py",
   "mimetype": "text/x-python",
   "name": "python",
   "nbconvert_exporter": "python",
   "pygments_lexer": "ipython3",
   "version": "3.10.9"
  }
 },
 "nbformat": 4,
 "nbformat_minor": 5
}
